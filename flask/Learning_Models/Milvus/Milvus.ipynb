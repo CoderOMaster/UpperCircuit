{
  "cells": [
    {
      "cell_type": "markdown",
      "metadata": {
        "id": "Y8-0eqomdtAH"
      },
      "source": [
        "# Milvus Implemented"
      ]
    },
    {
      "cell_type": "code",
      "execution_count": null,
      "metadata": {
        "id": "DF_A5sBMWD4U"
      },
      "outputs": [],
      "source": [
        "import os\n",
        "import torch\n",
        "import torch.nn as nn\n",
        "import torchvision.models as models\n",
        "import torchvision.transforms as transforms\n",
        "from PIL import Image\n",
        "import pymilvus\n",
        "from pymilvus import connections, FieldSchema, CollectionSchema, DataType, Collection, utility\n",
        "print(\"All imports were successful!\")\n"
      ]
    },
    {
      "cell_type": "code",
      "execution_count": null,
      "metadata": {
        "id": "49kZ9Ne7dc_2"
      },
      "outputs": [],
      "source": [
        "#resnet18 used\n",
        "model=models.resnet18(pretrained=True)\n",
        "model = nn.Sequential(*list(model.children())[:1])\n",
        "model.eval()"
      ]
    },
    {
      "cell_type": "code",
      "execution_count": null,
      "metadata": {
        "id": "Qsi6Wcz8dfQ4"
      },
      "outputs": [],
      "source": [
        "def preprocess_image(image_path):\n",
        "    image=Image.open(image_path).convert('RGB')\n",
        "    preprocess = transforms.Compose([\n",
        "        transforms.Resize(224,224),\n",
        "        transforms.ToTensor(),\n",
        "        transforms.Normalize(mean=[0.485, 0.456, 0.406], std=[0.229, 0.224, 0.225]),\n",
        "    ])\n",
        "    return preprocess(image).unsqueeze(0)\n",
        "\n",
        "def create_image_embedding(image_path):\n",
        "    try:\n",
        "        input_tensor=preprocess_image(image_path)\n",
        "        with torch.no_grad():\n",
        "            embeddings = model(input_tensor)\n",
        "        return embeddings.squeeze().numpy()\n",
        "    except Exception as e:\n",
        "        print(\"Error:\")"
      ]
    },
    {
      "cell_type": "code",
      "execution_count": null,
      "metadata": {
        "id": "hIUL88MFdh_M"
      },
      "outputs": [],
      "source": [
        "connections.connect(\"default\", host=\"localhost\", port=\"19530\")"
      ]
    },
    {
      "cell_type": "code",
      "execution_count": null,
      "metadata": {
        "id": "Ka8tB_Zodjrz"
      },
      "outputs": [],
      "source": [
        "fields = [\n",
        "    FieldSchema(name=\"pk\", dtype=DataType.INT64, isprimary=True, auto_id=True),\n",
        "    FieldSchema(name=\"image_id\", dtype=DataType.VARCHAR, max_length=65535),\n",
        "    FieldSchema(name=\"image_emd\", dtype=DataType.FLOAT_VECTOR, dim=512)\n",
        "]\n",
        "\n",
        "schema = CollectionSchema(fields, \"Implementing Milvus for Similar Search\")\n",
        "image = Collection(\"image\", schema)\n"
      ]
    },
    {
      "cell_type": "code",
      "execution_count": null,
      "metadata": {
        "id": "AeW4xwibdlcy"
      },
      "outputs": [],
      "source": [
        "#creating dataset\n",
        "\n",
        "image_dataset_folder = \"/Users/rishabhsaggar/Downloads/Photos\" #add directory\n",
        "image_paths = [os.path.join(image_dataset_folder, fname) for fname in os.listdir(image_dataset_folder) if fname.endswith(('.jpg', '.jpeg', '.png'))]\n",
        "\n",
        "for idx in range(len(dataset)):\n",
        "\n",
        "\n",
        "    # Insert vector into Milvus\n",
        "    entities = [{\"image_vector\": vector.tolist()}]\n",
        "    collection.insert(entities)\n",
        "    collection.flush()\n",
        "    collection.load()\n"
      ]
    },
    {
      "cell_type": "code",
      "execution_count": null,
      "metadata": {},
      "outputs": [],
      "source": [
        "#searching\n",
        "target_image=\"/add/your/photo-path\"\n",
        "results=collection.search(\n",
        "    data=[target_image],\n",
        "    anns_field=\"image_emd\",\n",
        "    param=search_params,\n",
        "    limit=4,\n",
        "    expr=None,\n",
        "\n",
        "    output_fields=['image_id']\n",
        "    consistency_level=\"Strong\"\n",
        "    )\n"
      ]
    }
  ],
  "metadata": {
    "colab": {
      "provenance": []
    },
    "kernelspec": {
      "display_name": "Python 3",
      "name": "python3"
    },
    "language_info": {
      "name": "python"
    }
  },
  "nbformat": 4,
  "nbformat_minor": 0
}
