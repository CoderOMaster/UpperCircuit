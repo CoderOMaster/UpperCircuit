{
  "nbformat": 4,
  "nbformat_minor": 0,
  "metadata": {
    "colab": {
      "provenance": []
    },
    "kernelspec": {
      "name": "python3",
      "display_name": "Python 3"
    },
    "language_info": {
      "name": "python"
    }
  },
  "cells": [
    {
      "cell_type": "markdown",
      "source": [
        "# Using P-Hash with ScaNN\n",
        "\n",
        "---\n",
        "\n"
      ],
      "metadata": {
        "id": "Tm7anxP4e2lY"
      }
    },
    {
      "cell_type": "code",
      "execution_count": null,
      "metadata": {
        "colab": {
          "base_uri": "https://localhost:8080/"
        },
        "id": "QS4Zptt_ZNBJ",
        "outputId": "2f432ede-97af-4795-cf3f-315b66fd8d1b"
      },
      "outputs": [
        {
          "output_type": "stream",
          "name": "stdout",
          "text": [
            "Drive already mounted at /content/drive; to attempt to forcibly remount, call drive.mount(\"/content/drive\", force_remount=True).\n",
            "Building pHash dataset...\n",
            "357\n",
            "Dataset built in 3.08 seconds.\n",
            "ScaNN search...\n",
            "Neighbors: [313  16 129 206 177 340 138 261 176 111]\n",
            "Distances: [22.841244 22.566551 22.320303 21.390764 21.093891 21.074299 20.515936\n",
            " 20.421228 20.352655 20.116205]\n",
            "[('054412.jpg', 22.841244), ('000011.jpg', 22.566551), ('000170.jpg', 22.320303), ('054292.jpg', 21.390764), ('000050.jpg', 21.093891), ('054381.jpg', 21.074299), ('000174.jpg', 20.515936), ('054344.jpg', 20.421228), ('000171.jpg', 20.352655), ('000090.jpg', 20.116205)]\n",
            "ScaNN search took 0.03 seconds.\n",
            "Top matches using ScaNN:\n",
            "Image: 054412.jpg, Distance: 22.841243743896484\n",
            "Image: 000011.jpg, Distance: 22.566551208496094\n",
            "Image: 000170.jpg, Distance: 22.320302963256836\n",
            "Image: 054292.jpg, Distance: 21.390764236450195\n",
            "Image: 000050.jpg, Distance: 21.093891143798828\n",
            "Image: 054381.jpg, Distance: 21.074298858642578\n",
            "Image: 000174.jpg, Distance: 20.51593589782715\n",
            "Image: 054344.jpg, Distance: 20.421228408813477\n",
            "Image: 000171.jpg, Distance: 20.3526554107666\n",
            "Image: 000090.jpg, Distance: 20.1162052154541\n"
          ]
        }
      ],
      "source": [
        "import os\n",
        "import time\n",
        "import numpy as np\n",
        "from PIL import Image\n",
        "import imagehash\n",
        "import scann\n",
        "\n",
        "from google.colab import drive\n",
        "drive.mount('/content/drive')\n",
        "\n",
        "\n",
        "\n",
        "def calculate_phash(image_path):\n",
        "    try:\n",
        "        image = Image.open(image_path)\n",
        "        return np.array(imagehash.phash(image).hash.flatten(), dtype=np.float32)\n",
        "    except Exception as e:\n",
        "        print(f\"Error processing image {image_path}: {e}\")\n",
        "        return None\n",
        "\n",
        "\n",
        "def build_phash_dataset(dataset_folder):\n",
        "    phash_list = []\n",
        "    file_names = []\n",
        "    for filename in os.listdir(dataset_folder):\n",
        "        image_path = os.path.join(dataset_folder, filename)\n",
        "        phash = calculate_phash(image_path)\n",
        "        if phash is not None:\n",
        "            phash_list.append(phash)\n",
        "            file_names.append(filename)\n",
        "    print(len(file_names));\n",
        "    return np.array(phash_list), file_names\n",
        "\n",
        "# # Function brute force (pHash)\n",
        "# def brute_force_search(target_hash, dataset_hashes, file_names, top_n=5):\n",
        "#     distances = np.linalg.norm(dataset_hashes - target_hash, axis=1)\n",
        "#     top_indices = np.argsort(distances)[:top_n]\n",
        "#     return [(file_names[i], distances[i]) for i in top_indices]\n",
        "\n",
        "# Function to use ScaNN for fast nearest-neighbor search\n",
        "def scann_search(target_hash, dataset_hashes, file_names):\n",
        "\n",
        "    searcher = scann.scann_ops_pybind.builder(dataset_hashes, 10, \"dot_product\").tree(\n",
        "        num_leaves=100, num_leaves_to_search=20, training_sample_size=361).score_ah(\n",
        "        2, anisotropic_quantization_threshold=0.2).build()\n",
        "\n",
        "    neighbors, distances = searcher.search(target_hash, final_num_neighbors=10)\n",
        "\n",
        "    print(f\"Neighbors: {neighbors}\")\n",
        "    print(f\"Distances: {distances}\")\n",
        "    result=[]\n",
        "    for i in range(len(neighbors)):\n",
        "      result.append((file_names[neighbors[i]], distances[i]))\n",
        "\n",
        "    print(result);\n",
        "    return result\n",
        "\n",
        "# Main function\n",
        "if __name__ == \"__main__\":\n",
        "\n",
        "    target_image = \"/content/drive/My Drive/target_image1.jpeg\"\n",
        "    dataset_directory = \"/content/drive/My Drive/Photos\"\n",
        "\n",
        "    if not os.path.exists(target_image):\n",
        "        print(f\"Target image {target_image} not found.\")\n",
        "        exit(1)\n",
        "\n",
        "\n",
        "    print(\"Building pHash dataset...\")\n",
        "    start_time = time.time()\n",
        "    dataset_hashes, file_names = build_phash_dataset(dataset_directory)\n",
        "\n",
        "    if len(dataset_hashes) != len(file_names):\n",
        "        print(f\"Dataset size mismatch! dataset_hashes: {len(dataset_hashes)}, file_names: {len(file_names)}\")\n",
        "        exit(1)\n",
        "\n",
        "    print(f\"Dataset built in {time.time() - start_time:.2f} seconds.\")\n",
        "\n",
        "    target_hash = calculate_phash(target_image)\n",
        "    if target_hash is None:\n",
        "        print(\"Could not calculate pHash for the target image.\")\n",
        "        exit(1)\n",
        "\n",
        "\n",
        "    # print(\"Brute-force search with pHash...\")\n",
        "    # start_time = time.time()\n",
        "    # results_phash = brute_force_search(target_hash, dataset_hashes, file_names)\n",
        "    # print(f\"Brute-force search took {time.time() - start_time:.2f} seconds.\")\n",
        "    # print(\"Top matches using pHash:\")\n",
        "    # for match in results_phash:\n",
        "    #     print(f\"Image: {match[0]}, Distance: {match[1]}\")\n",
        "\n",
        "\n",
        "    print(\"ScaNN search...\")\n",
        "    start_time = time.time()\n",
        "    results_scann = scann_search(target_hash, dataset_hashes, file_names)\n",
        "    print(f\"ScaNN search took {time.time() - start_time:.2f} seconds.\")\n",
        "    print(\"Top matches using ScaNN:\")\n",
        "    for match in results_scann:\n",
        "        print(f\"Image: {match[0]}, Distance: {match[1]}\")\n"
      ]
    },
    {
      "cell_type": "markdown",
      "source": [],
      "metadata": {
        "id": "QgYykX3TsYmM"
      }
    }
  ]
}